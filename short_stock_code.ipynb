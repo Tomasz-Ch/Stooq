{
 "cells": [
  {
   "cell_type": "code",
   "execution_count": 1,
   "metadata": {},
   "outputs": [],
   "source": [
    "from datetime import datetime\n",
    "import pandas as pd\n",
    "from pandas_datareader import data as web\n",
    "import matplotlib.pyplot as plt\n",
    "from pandas.plotting import register_matplotlib_converters\n",
    "pd.plotting.register_matplotlib_converters()\n",
    "import os\n",
    "import smtplib\n",
    "import imghdr\n",
    "from email.message import EmailMessage\n",
    "\n",
    "# time_from = datetime.now()\n",
    "# print(time_from)\n",
    "\n",
    "def modify_source(df):\n",
    "    df['Date'] = df.index\n",
    "    df = df.reset_index(drop=True)\n",
    "    cols = list(df.columns)\n",
    "    df = df[[cols[-1]] + cols[0:5]]\n",
    "\n",
    "def mean_seirie():\n",
    "    df['Mean'] = (df['High'] + df['Low']) / 2\n",
    "\n",
    "def go_mail():\n",
    "    contacts = ['tom4net@me.com']\n",
    "\n",
    "\n",
    "    EMAIL_ADDRESS = os.environ.get('EMAIL_USER')\n",
    "    EMAIL_PASSWORD = os.environ.get('EMAIL_PASS')\n",
    "\n",
    "\n",
    "    msg = EmailMessage()\n",
    "    msg['Subject'] = 'Test generowania wykresow ze strony Stooq.com'\n",
    "    msg['From'] = EMAIL_ADDRESS\n",
    "    msg['To'] = contacts\n",
    "    msg.set_content('Ja Ci się podoba mój automatyczny generator wykresów?')\n",
    "\n",
    "    msg.add_alternative(\"\"\"\\\n",
    "    <!DOCTYPE html>\n",
    "    <html>\n",
    "        <body>\n",
    "            <h1 style=\"color:SlateGray;\">Oto wykresy wybranych spółek</h1>\n",
    "        </body>\n",
    "    </html>\n",
    "    \"\"\", subtype='html')\n",
    "\n",
    "    path = 'charts/'\n",
    "\n",
    "    files = []\n",
    "    # r=root, d=directories, f = files\n",
    "    for r, d, f in os.walk(path):\n",
    "        for file in f:\n",
    "            if '.png' in file:\n",
    "                files.append(os.path.join(r, file))\n",
    "\n",
    "    for file in files:\n",
    "        with open(file, 'rb') as f:\n",
    "            file_data = f.read()\n",
    "            file_type = imghdr.what(f.name)\n",
    "            file_name = f.name\n",
    "\n",
    "        msg.add_attachment(file_data, maintype='image', subtype=file_type, filename=file_name)\n",
    "\n",
    "    with smtplib.SMTP_SSL('smtp.gmail.com', 465) as smtp:\n",
    "        smtp.login(EMAIL_ADDRESS, EMAIL_PASSWORD)\n",
    "\n",
    "        smtp.send_message(msg)\n",
    "    \n",
    "for symbol in ['FTE.pl', 'WIG20.pl']:\n",
    "#     symbol = input(\"Wprowadż symbol akcji lub indeksu: \") \n",
    "    df = web.DataReader(symbol, 'stooq')\n",
    "    modify_source(df)\n",
    "    mean_seirie()\n",
    "    # date_from = input('Pokaż notowania od (RRRR-MM-DD): ')\n",
    "    data_from = df.loc[df['Date'] >= '2018-01-01']\n",
    "    x = list(data_from['Date'])\n",
    "    y = list(data_from['Mean'])\n",
    "    plt.figure(figsize=(10,7), dpi=100)\n",
    "    plt.plot(x, y, color='red', marker='', linestyle='solid')\n",
    "    plt.title(\"Notowania spółki: {}\".format(symbol))\n",
    "    plt.ylabel('PLN')\n",
    "    plt.xlabel(\"Data\")\n",
    "    plt.grid()\n",
    "    plt.savefig('charts/{}.png'.format(symbol))\n",
    "#     plt.show()\n",
    "\n",
    "go_mail()\n",
    "\n",
    "# time_to = datetime.now()\n",
    "# print(time_to)\n",
    "# print(time_to - time_from)"
   ]
  },
  {
   "cell_type": "code",
   "execution_count": 5,
   "metadata": {},
   "outputs": [],
   "source": [
    "# inne indeksy do testów:\n",
    "# 'FTE.pl', 'WIG20.pl', 'CCC.pl', 'ENA.pl', 'EUR.pl', 'ING.pl', 'KGH.pl', 'LTS.pl', 'PEO.pl', 'PGE.pl', 'PKN.pl', 'PKO.pl', 'PZU.pl', 'LPP.pl', 'MBK.pl', 'JSW.pl', 'KRU.pl', 'MIL.pl'"
   ]
  },
  {
   "cell_type": "code",
   "execution_count": 3,
   "metadata": {},
   "outputs": [],
   "source": [
    "import os\n",
    "import smtplib\n",
    "import imghdr\n",
    "from email.message import EmailMessage\n",
    "# import config\n",
    "\n",
    "\n",
    "def go_mail():\n",
    "    contacts = ['tom4net@me.com']\n",
    "\n",
    "\n",
    "    EMAIL_ADDRESS = os.environ.get('EMAIL_USER')\n",
    "    EMAIL_PASSWORD = os.environ.get('EMAIL_PASS')\n",
    "\n",
    "\n",
    "    msg = EmailMessage()\n",
    "    msg['Subject'] = 'Test generowania wykresow ze strony Stooq.com'\n",
    "    msg['From'] = EMAIL_ADDRESS\n",
    "    msg['To'] = contacts\n",
    "    msg.set_content('Ja Ci się podoba mój automatyczny generator wykresów?')\n",
    "\n",
    "    msg.add_alternative(\"\"\"\\\n",
    "    <!DOCTYPE html>\n",
    "    <html>\n",
    "        <body>\n",
    "            <h1 style=\"color:SlateGray;\">Oto wykresy wybranych spółek</h1>\n",
    "        </body>\n",
    "    </html>\n",
    "    \"\"\", subtype='html')\n",
    "\n",
    "    path = 'charts/'\n",
    "\n",
    "    files = []\n",
    "    # r=root, d=directories, f = files\n",
    "    for r, d, f in os.walk(path):\n",
    "        for file in f:\n",
    "            if '.png' in file:\n",
    "                files.append(os.path.join(r, file))\n",
    "\n",
    "    for file in files:\n",
    "        with open(file, 'rb') as f:\n",
    "            file_data = f.read()\n",
    "            file_type = imghdr.what(f.name)\n",
    "            file_name = f.name\n",
    "\n",
    "        msg.add_attachment(file_data, maintype='image', subtype=file_type, filename=file_name)\n",
    "\n",
    "    with smtplib.SMTP_SSL('smtp.gmail.com', 465) as smtp:\n",
    "        smtp.login(EMAIL_ADDRESS, EMAIL_PASSWORD)\n",
    "\n",
    "        smtp.send_message(msg)\n",
    "go_mail()"
   ]
  },
  {
   "cell_type": "code",
   "execution_count": 47,
   "metadata": {},
   "outputs": [
    {
     "name": "stdout",
     "output_type": "stream",
     "text": [
      "['WIG20.pl.png', 'FTE.pl.png']\n"
     ]
    }
   ],
   "source": [
    "import os\n",
    "import glob\n",
    "\n",
    "# os.getcwd()\n",
    "os.chdir('charts/')\n",
    "files = [f for f in glob.glob(\"*.png\", recursive=True)]\n",
    "# print(files)\n",
    "os.chdir(\"..\")"
   ]
  },
  {
   "cell_type": "code",
   "execution_count": 33,
   "metadata": {},
   "outputs": [
    {
     "name": "stdout",
     "output_type": "stream",
     "text": [
      "charts/WIG20.pl.png\n",
      "charts/FTE.pl.png\n"
     ]
    }
   ],
   "source": [
    "from pathlib import Path\n",
    "\n",
    "for filename in Path('charts/').glob('*.png'):\n",
    "    print(filename)"
   ]
  },
  {
   "cell_type": "code",
   "execution_count": 50,
   "metadata": {},
   "outputs": [
    {
     "name": "stdout",
     "output_type": "stream",
     "text": [
      "['charts/WIG20.pl.png', 'charts/FTE.pl.png']\n"
     ]
    }
   ],
   "source": [
    "import os\n",
    "\n",
    "path = 'charts'\n",
    "\n",
    "files = []\n",
    "# r=root, d=directories, f = files\n",
    "for r, d, f in os.walk(path):\n",
    "    for file in f:\n",
    "        if '.png' in file:\n",
    "            files.append(os.path.join(r, file))\n",
    "print(files)\n"
   ]
  },
  {
   "cell_type": "code",
   "execution_count": 1,
   "metadata": {},
   "outputs": [
    {
     "name": "stdout",
     "output_type": "stream",
     "text": [
      "             Open   High   Low  Close  %Change  Volume  # of Trades  \\\n",
      "Date                                                                  \n",
      "2019-09-13  23.55  23.70  22.5  22.70    -2.16  7755.0         53.0   \n",
      "2019-09-16  22.60  23.50  22.5  23.50     3.52  9710.0         84.0   \n",
      "2019-09-17  23.50  23.65  22.7  22.95    -2.34  4388.0         51.0   \n",
      "2019-09-18  22.30  23.90  22.3  23.90     4.14  2717.0         55.0   \n",
      "2019-09-19  23.00  23.50  22.8  23.25    -2.72  4572.0         62.0   \n",
      "\n",
      "            Turnover (1000)  \n",
      "Date                         \n",
      "2019-09-13           177.10  \n",
      "2019-09-16           224.43  \n",
      "2019-09-17           100.41  \n",
      "2019-09-18            63.85  \n",
      "2019-09-19           105.79  \n"
     ]
    }
   ],
   "source": [
    "import quandl\n",
    "mydata = quandl.get(\"WSE/FORTE\")\n",
    "print(mydata.tail())"
   ]
  },
  {
   "cell_type": "code",
   "execution_count": null,
   "metadata": {},
   "outputs": [],
   "source": []
  }
 ],
 "metadata": {
  "kernelspec": {
   "display_name": "Python 3",
   "language": "python",
   "name": "python3"
  },
  "language_info": {
   "codemirror_mode": {
    "name": "ipython",
    "version": 3
   },
   "file_extension": ".py",
   "mimetype": "text/x-python",
   "name": "python",
   "nbconvert_exporter": "python",
   "pygments_lexer": "ipython3",
   "version": "3.7.3"
  }
 },
 "nbformat": 4,
 "nbformat_minor": 2
}
